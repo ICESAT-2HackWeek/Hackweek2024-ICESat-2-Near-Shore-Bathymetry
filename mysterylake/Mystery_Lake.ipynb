{
 "cells": [
  {
   "cell_type": "code",
   "execution_count": null,
   "id": "4c841bde-7ece-492b-b749-bfc5c9397dbc",
   "metadata": {},
   "outputs": [],
   "source": [
    "from sliderule import sliderule, icesat2, earthdata\n",
    "from shapely.geometry import Polygon, MultiPolygon, LineString, mapping\n",
    "import geopandas as gpd\n",
    "import geojson"
   ]
  },
  {
   "cell_type": "markdown",
   "id": "2b504850-3bcd-4783-af60-7c175006ca1c",
   "metadata": {},
   "source": [
    "### Read pond time,lat,lon into GeoDataFrame"
   ]
  },
  {
   "cell_type": "code",
   "execution_count": null,
   "id": "909c89ff-d2d3-475e-a042-7cad014853ed",
   "metadata": {},
   "outputs": [],
   "source": [
    "df = gpd.pd.read_csv(\"MysteryLake_radius100m.csv\")"
   ]
  },
  {
   "cell_type": "code",
   "execution_count": null,
   "id": "85f10356-81e8-4855-8fb2-c10651c7e410",
   "metadata": {},
   "outputs": [],
   "source": [
    "geometry = gpd.points_from_xy(df.Longitude, df.Latitude)"
   ]
  },
  {
   "cell_type": "code",
   "execution_count": null,
   "id": "4fd82bf2-a9e8-4a06-b014-cf461a8eb017",
   "metadata": {},
   "outputs": [],
   "source": [
    "gdf = gpd.GeoDataFrame(df, geometry=geometry, crs=\"EPSG:4326\")"
   ]
  },
  {
   "cell_type": "code",
   "execution_count": null,
   "id": "74ea386a-5c73-487e-b933-56a4055825b2",
   "metadata": {},
   "outputs": [],
   "source": [
    "gdf"
   ]
  },
  {
   "cell_type": "markdown",
   "id": "e5260c4e-9803-41b5-8a01-3222c75f3474",
   "metadata": {},
   "source": [
    "#### Create buffered polygon of linestring of lat,lon list"
   ]
  },
  {
   "cell_type": "code",
   "execution_count": null,
   "id": "a80a9f83-5ec2-4f34-84b6-04a3edf5611a",
   "metadata": {},
   "outputs": [],
   "source": [
    "# display the original path of the pond\n",
    "linestring = LineString(list(gdf.geometry))\n",
    "linestring"
   ]
  },
  {
   "cell_type": "code",
   "execution_count": null,
   "id": "1f07d0ca-a41e-42f3-8cd8-8780300aae60",
   "metadata": {},
   "outputs": [],
   "source": [
    "# project to \"sea ice polar stereographic north\" (units in meters)\n",
    "proj_gdf = gdf.to_crs(\"EPSG:3413\")\n",
    "proj_linestring = LineString(list(proj_gdf.geometry))\n",
    "proj_linestring"
   ]
  },
  {
   "cell_type": "code",
   "execution_count": null,
   "id": "a2dd7256-8c8d-4a7a-99cd-5305808bb8fe",
   "metadata": {},
   "outputs": [],
   "source": [
    "# buffer out 1km to polygon \n",
    "proj_polygon = proj_linestring.buffer(1000)\n",
    "proj_polygon"
   ]
  },
  {
   "cell_type": "code",
   "execution_count": null,
   "id": "3601efcb-4f31-46c6-84a7-229f460b23c7",
   "metadata": {},
   "outputs": [],
   "source": [
    "# reproject polygon back to WGS84 so that we can query CMR\n",
    "reproj_gdf = gpd.GeoDataFrame(geometry=[proj_polygon], crs=\"EPSG:3413\")\n",
    "reproj_gdf = reproj_gdf.to_crs(\"EPSG:4326\")\n",
    "reproj_gdf"
   ]
  },
  {
   "cell_type": "markdown",
   "id": "99c3213e-d3d7-4377-b811-186356109f62",
   "metadata": {},
   "source": [
    "### Use sliderule to get ATL03 granules that intersect path of pond"
   ]
  },
  {
   "cell_type": "code",
   "execution_count": null,
   "id": "09341c73-0026-47a8-9ca2-c8e76637498e",
   "metadata": {},
   "outputs": [],
   "source": [
    "# initialize sliderule client (enable verbose)\n",
    "sliderule.init(verbose=True)"
   ]
  },
  {
   "cell_type": "code",
   "execution_count": null,
   "id": "d707a117-35e7-48cb-bf29-ddff72bbf605",
   "metadata": {},
   "outputs": [],
   "source": [
    "# create a region of interest out of the path of the pond\n",
    "region = sliderule.toregion(reproj_gdf)"
   ]
  },
  {
   "cell_type": "code",
   "execution_count": null,
   "id": "93ad05bd-6430-43a5-bd6b-e2a650a48ab2",
   "metadata": {
    "scrolled": true
   },
   "outputs": [],
   "source": [
    "# query CMR for ATL03 granules that intersect the path of the pond\n",
    "earthdata.set_max_resources(500)\n",
    "cmr_parms = {\n",
    "    \"asset\": \"icesat2\",\n",
    "    \"poly\": region[\"poly\"],\n",
    "    \"t0\": \"2020-05-01\",\n",
    "    \"t1\": \"2020-07-31\"\n",
    "}\n",
    "atl03_granules = earthdata.search(cmr_parms)\n",
    "atl03_granules"
   ]
  },
  {
   "cell_type": "markdown",
   "id": "1b114e73-a266-4949-8f4e-7f912faf8be4",
   "metadata": {},
   "source": [
    "### Make request to sliderule to provide ATL03 segment information for every segment that intersects with the path of the pond"
   ]
  },
  {
   "cell_type": "code",
   "execution_count": null,
   "id": "4e28c9dc-45a7-4d4d-9134-4a3062c4206b",
   "metadata": {},
   "outputs": [],
   "source": [
    "# build the processing parameters for a sliderule query to the atl03v endpoint\n",
    "parms = {\n",
    "    \"poly\": region[\"poly\"]\n",
    "}"
   ]
  },
  {
   "cell_type": "code",
   "execution_count": null,
   "id": "fecfb052-3c86-4839-8984-2d6c569f3d87",
   "metadata": {
    "scrolled": true
   },
   "outputs": [],
   "source": [
    "# make sliderule request to atl03v\n",
    "atl03v = icesat2.atl03vp(parms, resources=atl03_granules)"
   ]
  },
  {
   "cell_type": "code",
   "execution_count": null,
   "id": "9d7a2801-1cf9-4858-8641-5d86c1626090",
   "metadata": {},
   "outputs": [],
   "source": [
    "atl03v"
   ]
  },
  {
   "cell_type": "code",
   "execution_count": null,
   "id": "2141647f-81a5-41fc-88d9-18b84cc23a10",
   "metadata": {
    "scrolled": true
   },
   "outputs": [],
   "source": [
    "# project the results to \"sea ice polar stereographic north\" (units in meters)\n",
    "proj_atl03v = atl03v.to_crs(\"EPSG:3413\")"
   ]
  },
  {
   "cell_type": "code",
   "execution_count": null,
   "id": "fb74f793-95c2-463c-b877-581189cc0c8d",
   "metadata": {},
   "outputs": [],
   "source": [
    "proj_atl03v.plot(markersize=1)"
   ]
  },
  {
   "cell_type": "markdown",
   "id": "3b5662c1-afc5-485a-bb26-9845be17d2f5",
   "metadata": {},
   "source": [
    "### Plot the path of the pond overtop the ATL03 segments"
   ]
  },
  {
   "cell_type": "code",
   "execution_count": null,
   "id": "1ec4c833-9603-4f5e-ac1f-43d62b15f794",
   "metadata": {},
   "outputs": [],
   "source": [
    "# get the buffered path of the pond in the same projection\n",
    "proj_buffered_gdf = gpd.GeoDataFrame(geometry=[proj_polygon], crs=\"EPSG:3413\")"
   ]
  },
  {
   "cell_type": "code",
   "execution_count": null,
   "id": "038650c0-4899-401a-bbb5-43d6e3efbcf0",
   "metadata": {},
   "outputs": [],
   "source": [
    "import matplotlib.pyplot as plt"
   ]
  },
  {
   "cell_type": "code",
   "execution_count": null,
   "id": "f4b9fff5-4bfc-4703-84e4-291e67f79d25",
   "metadata": {},
   "outputs": [],
   "source": [
    "f, ax = plt.subplots()\n",
    "proj_atl03v.plot(ax=ax, color='blue', markersize=1.0)\n",
    "proj_buffered_gdf.plot(ax=ax, color='red', markersize=1.0)\n",
    "plt.show()"
   ]
  },
  {
   "cell_type": "markdown",
   "id": "65417f4b-2317-4a1e-a39f-3409646ecc7c",
   "metadata": {},
   "source": [
    "### Trim the ATL03 segments to exactly the path of the pond"
   ]
  },
  {
   "cell_type": "code",
   "execution_count": null,
   "id": "43c21d7b-c03a-4f68-ab96-6b132c7fcbc6",
   "metadata": {},
   "outputs": [],
   "source": [
    "trimmed_proj_atl03v = proj_atl03v.sjoin(proj_buffered_gdf, how='inner', predicate='within')"
   ]
  },
  {
   "cell_type": "code",
   "execution_count": null,
   "id": "91480b68-ed71-4343-8bf3-be9ef2f477c7",
   "metadata": {},
   "outputs": [],
   "source": [
    "trimmed_proj_atl03v.plot(markersize=1)"
   ]
  },
  {
   "cell_type": "code",
   "execution_count": null,
   "id": "45aaad00-1fb1-496e-9c7e-5cba18619f7c",
   "metadata": {},
   "outputs": [],
   "source": [
    "trimmed_proj_atl03v"
   ]
  },
  {
   "cell_type": "markdown",
   "id": "a04dbaef-8c80-4ff1-8a50-46daae119c38",
   "metadata": {},
   "source": [
    "### Determine every segment in ATL03 that is within 10 minutes and 2 Km of a point in the pond path"
   ]
  },
  {
   "cell_type": "code",
   "execution_count": null,
   "id": "c05a3555-0067-4a3b-8446-afc06d3f459f",
   "metadata": {},
   "outputs": [],
   "source": [
    "# Create projected pond geodataframe with \"Date\" as its index\n",
    "gdf['Date'] = gpd.pd.to_datetime(gdf[\"Time\"])\n",
    "pond_gdf = gdf.set_index('Date')\n",
    "proj_pond_gdf = pond_gdf.to_crs(\"EPSG:3413\")"
   ]
  },
  {
   "cell_type": "code",
   "execution_count": null,
   "id": "19315efd-9a54-4c00-967a-e4c4c2b18017",
   "metadata": {
    "scrolled": true
   },
   "outputs": [],
   "source": [
    "# calculate which ATL03 segments are close in time and distance to the pond path\n",
    "import warnings\n",
    "warnings.filterwarnings('ignore')\n",
    "trimmed_proj_atl03v[\"mask\"] = 0\n",
    "hits = 0\n",
    "hit_dictionary = {}\n",
    "atl03v = trimmed_proj_atl03v\n",
    "time_threshold = 10\n",
    "for i in range(len(proj_pond_gdf.index)):\n",
    "    \n",
    "    t_pond = proj_pond_gdf.index[i]\n",
    "    atl03v[\"time_delta\"] = abs(atl03v.index - t_pond)\n",
    "    atl03v_close_in_time = atl03v[atl03v[\"time_delta\"] < gpd.pd.Timedelta(f'{time_threshold} minutes')]\n",
    "\n",
    "    if(len(atl03v_close_in_time) > 0):\n",
    "        atl03v_close_in_time[\"distance_delta\"] = atl03v_close_in_time.geometry.distance(proj_pond_gdf.geometry.iloc[i])\n",
    "\n",
    "        for index, row in atl03v_close_in_time.iterrows():\n",
    "            distance = row[\"distance_delta\"]\n",
    "            if type(distance) == float:\n",
    "                distance_km = distance / 1000\n",
    "            else:\n",
    "                distance_km = distance.min() / 1000\n",
    "    \n",
    "            if distance_km < 2:\n",
    "                trimmed_proj_atl03v.loc[index,\"mask\"] = 1\n",
    "                hits += 1\n",
    "                hit_dictionary[index] = True\n",
    "                print(f'Time match found within {row[\"time_delta\"].total_seconds() / 60:.3} minutes: index={index}, distance={distance_km}, cycle={row[\"cycle\"]}, rgt={row[\"rgt\"]}')\n",
    "print(\"Total hits: \", hits)\n",
    "print(\"Total number of unique indices: \", len(hit_dictionary))"
   ]
  },
  {
   "cell_type": "code",
   "execution_count": null,
   "id": "2a5ee209-75ee-458d-8cc3-b6dc2750f6ef",
   "metadata": {
    "scrolled": true
   },
   "outputs": [],
   "source": [
    "#\n",
    "# This is another way to calculate the segments that are close in time and distance,\n",
    "# but since it loops over all of the segments, it is slower\n",
    "#\n",
    "# calculate which ATL03 segments are close in time and distance to the pond path\n",
    "# trimmed_proj_atl03v[\"mask\"] = 0\n",
    "# time_threshold = 10\n",
    "# for i in range(len(trimmed_proj_atl03v.index)):\n",
    "#     t = trimmed_proj_atl03v.index[i]\n",
    "    \n",
    "#     closest_time = abs(proj_pond_gdf.index - t)\n",
    "#     time_delta = abs(closest_time.min().total_seconds() / 60)\n",
    "#     if time_delta <= time_threshold:\n",
    "\n",
    "#         pond_index = closest_time.argmin()\n",
    "#         pond_geo = proj_pond_gdf.geometry.iloc[pond_index]\n",
    "#         icesat2_geo = trimmed_proj_atl03v.geometry.iloc[i]\n",
    "#         distance = pond_geo.distance(icesat2_geo)\n",
    "        \n",
    "#         row = trimmed_proj_atl03v.iloc[i]\n",
    "\n",
    "#         if type(distance) == float:\n",
    "#             distance_km = distance / 1000\n",
    "#         else:\n",
    "#             distance_km = distance.min() / 1000\n",
    "\n",
    "#         if distance_km < 2:\n",
    "#             trimmed_proj_atl03v.loc[t,\"mask\"] = 1\n",
    "#             print(f'Time match found within {time_delta:.3} minutes: distance={distance_km}, cycle={row[\"cycle\"]}, rgt={row[\"rgt\"]}')"
   ]
  },
  {
   "cell_type": "code",
   "execution_count": null,
   "id": "5da7c1af-45ef-4a46-8109-c7cb608b0ad0",
   "metadata": {},
   "outputs": [],
   "source": [
    "# pull out only the ATL03 segments that matched the criteria\n",
    "masked_atl03v = trimmed_proj_atl03v[trimmed_proj_atl03v[\"mask\"] == 1]"
   ]
  },
  {
   "cell_type": "code",
   "execution_count": null,
   "id": "7b63f5df-1ee6-49be-a4db-71993583d3e2",
   "metadata": {},
   "outputs": [],
   "source": [
    "masked_atl03v"
   ]
  },
  {
   "cell_type": "code",
   "execution_count": null,
   "id": "cc89cdac-7213-49c4-90cf-a0cf98e0355f",
   "metadata": {},
   "outputs": [],
   "source": [
    "%matplotlib widget\n",
    "f, ax = plt.subplots()\n",
    "proj_buffered_gdf.plot(ax=ax, color='red', markersize=1.0)\n",
    "masked_atl03v.plot(ax=ax, color='blue', markersize=1.0)\n",
    "plt.show()"
   ]
  },
  {
   "cell_type": "markdown",
   "id": "3ebad1d0-a75c-44b1-b8ae-5ff3146a180b",
   "metadata": {},
   "source": [
    "### Plot intersections with time as the z-dimension to look for exact intersections"
   ]
  },
  {
   "cell_type": "code",
   "execution_count": null,
   "id": "5815a9e8-6a0e-4a9c-89c1-01e38f55896e",
   "metadata": {},
   "outputs": [],
   "source": [
    "pond_resampled = proj_pond_gdf[['Latitude','Longitude']].resample('30s').asfreq()\n",
    "pond_resampled['x'] = proj_pond_gdf.geometry.x\n",
    "pond_resampled['y'] = proj_pond_gdf.geometry.y\n",
    "pond_resampled"
   ]
  },
  {
   "cell_type": "code",
   "execution_count": null,
   "id": "9e0c5911-7154-4be1-84c9-d4e39fcc78a6",
   "metadata": {},
   "outputs": [],
   "source": [
    "pond_interpolated = pond_resampled.interpolate(method='time')"
   ]
  },
  {
   "cell_type": "code",
   "execution_count": null,
   "id": "d78c8840-37fb-4b1f-8be8-728f29fc2b49",
   "metadata": {},
   "outputs": [],
   "source": [
    "pond_interpolated.index"
   ]
  },
  {
   "cell_type": "code",
   "execution_count": null,
   "id": "552a4fbb-5b1d-4961-9a33-c601c5678056",
   "metadata": {},
   "outputs": [],
   "source": [
    "list_of_time_references = [\n",
    "    '2020-05-09 10:00:36.200328192',\n",
    "    '2020-06-14 22:57:39.297117696',\n",
    "    '2020-06-30 08:11:44.577678080',\n",
    "    '2020-07-11 08:12:17.927471616',\n",
    "    '2020-07-12 21:59:38.291162880'\n",
    "]\n",
    "list_of_dimensions = [\n",
    "    ((577000, 582000), (-350985, -340985)),\n",
    "    ((651000, 654000), (-492000, -488000)),\n",
    "    ((710000, 730000), (-526000, -520000)),\n",
    "    ((672000, 678000), (-639000, -633000)),\n",
    "    ((659500, 662000), (-656000, -651000))\n",
    "]"
   ]
  },
  {
   "cell_type": "code",
   "execution_count": null,
   "id": "2bc7493f-ab86-49bd-92ac-9927938aa4bc",
   "metadata": {},
   "outputs": [],
   "source": [
    "import pandas as pd\n",
    "from matplotlib.patches import Circle\n",
    "import mpl_toolkits.mplot3d.art3d as art3d"
   ]
  },
  {
   "cell_type": "code",
   "execution_count": null,
   "id": "c6d55bdd-cbdc-46ae-9c8e-76d5472823ac",
   "metadata": {},
   "outputs": [],
   "source": [
    "fig = plt.figure(figsize=(8,24))\n",
    "\n",
    "for x in range(len(list_of_time_references)):\n",
    "    ax = fig.add_subplot(5,1,x+1, projection='3d') # sharex=True, sharey=True\n",
    "\n",
    "    reference_datetime = pd.Timestamp(list_of_time_references[x])\n",
    "    pond_interpolated['seconds_since_reference'] = (pond_interpolated.index - reference_datetime).total_seconds()\n",
    "    pond_interpolated_segment = pond_interpolated[abs(pond_interpolated.seconds_since_reference) < 3600]\n",
    "    masked_atl03v['seconds_since_reference'] = (masked_atl03v.index - reference_datetime).total_seconds()\n",
    "\n",
    "    \n",
    "    for i in range(len(pond_interpolated_segment)):\n",
    "        p = Circle((pond_interpolated_segment.x[i], pond_interpolated_segment.y[i]), 100)\n",
    "        ax.add_patch(p)\n",
    "        art3d.pathpatch_2d_to_3d(p, z=pond_interpolated_segment.seconds_since_reference[i], zdir=\"z\")\n",
    "    \n",
    "    ax.scatter(masked_atl03v.geometry.x, masked_atl03v.geometry.y, masked_atl03v.seconds_since_reference, color='green') \n",
    "    ax.set_xlim(list_of_dimensions[x][0][0], list_of_dimensions[x][0][1])\n",
    "    ax.set_ylim(list_of_dimensions[x][1][0], list_of_dimensions[x][1][1])\n",
    "    ax.set_zlim(-4000, 4000)\n",
    "    ax.set_xlabel('x [m]')\n",
    "    ax.set_ylabel('y [m]')\n",
    "    ax.set_zlabel('relative time [s]')"
   ]
  },
  {
   "cell_type": "code",
   "execution_count": null,
   "id": "9f1241b0-5931-450e-bdb7-a76f70e84589",
   "metadata": {},
   "outputs": [],
   "source": []
  }
 ],
 "metadata": {
  "kernelspec": {
   "display_name": "Python 3 (ipykernel)",
   "language": "python",
   "name": "python3"
  },
  "language_info": {
   "codemirror_mode": {
    "name": "ipython",
    "version": 3
   },
   "file_extension": ".py",
   "mimetype": "text/x-python",
   "name": "python",
   "nbconvert_exporter": "python",
   "pygments_lexer": "ipython3",
   "version": "3.12.0"
  }
 },
 "nbformat": 4,
 "nbformat_minor": 5
}
