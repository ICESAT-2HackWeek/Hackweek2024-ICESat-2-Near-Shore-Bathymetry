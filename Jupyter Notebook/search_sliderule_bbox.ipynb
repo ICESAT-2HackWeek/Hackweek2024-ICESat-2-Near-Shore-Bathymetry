{
 "cells": [
  {
   "cell_type": "code",
   "execution_count": 1,
   "id": "96d77a73-6724-4dfa-ac9f-b031aaec1a89",
   "metadata": {},
   "outputs": [
    {
     "name": "stderr",
     "output_type": "stream",
     "text": [
      "Client (version (4, 5, 3)) is out of date with the server (version (4, 6, 2))\n"
     ]
    },
    {
     "data": {
      "text/plain": [
       "False"
      ]
     },
     "execution_count": 1,
     "metadata": {},
     "output_type": "execute_result"
    }
   ],
   "source": [
    "from sliderule import earthdata,sliderule\n",
    "from datetime import datetime, timezone\n",
    "\n",
    "\n",
    "def fname2datetime(fname):\n",
    "    y = int(fname[6:10])\n",
    "    m = int(fname[10:12])\n",
    "    d = int(fname[12:14])\n",
    "    H = int(fname[14:16])\n",
    "    M = int(fname[16:18])\n",
    "    S = int(fname[18:20])\n",
    "\n",
    "    t = datetime(y,m,d,H,M,S, tzinfo=timezone.utc).timestamp()\n",
    "    return t\n",
    "\n",
    "sliderule.init(\"slideruleearth.io\")\n",
    "# 20240507191308"
   ]
  },
  {
   "cell_type": "code",
   "execution_count": 6,
   "id": "df5b671c-4fb2-4e7b-acde-c7824852f5e7",
   "metadata": {},
   "outputs": [
    {
     "data": {
      "text/plain": [
       "[]"
      ]
     },
     "execution_count": 6,
     "metadata": {},
     "output_type": "execute_result"
    }
   ],
   "source": [
    "# define bounding box; WSEN\n",
    "bbox = [-108.3, 39.2, -107.8, 38.8]\n",
    "region = sliderule.toregion(bbox)\n",
    "\n",
    "parms = {\n",
    "    \"short_name\": 'ATL03',\n",
    "    \"poly\": region,\n",
    "    \"version\": '006',\n",
    "}\n",
    "grns = earthdata.search(parms)\n",
    "grns"
   ]
  },
  {
   "cell_type": "code",
   "execution_count": 14,
   "id": "171f57ed-bf0f-40e6-8d46-6138ce945180",
   "metadata": {},
   "outputs": [],
   "source": [
    "# convert the start time listed in the file name to a datetime val\n",
    "# example file name: 'ATL03_20240507191308_07662302_006_01.h5'\n",
    "strt_times = [fname2datetime(fname) for fname in grns]"
   ]
  }
 ],
 "metadata": {
  "kernelspec": {
   "display_name": "Python 3 (ipykernel)",
   "language": "python",
   "name": "python3"
  },
  "language_info": {
   "codemirror_mode": {
    "name": "ipython",
    "version": 3
   },
   "file_extension": ".py",
   "mimetype": "text/x-python",
   "name": "python",
   "nbconvert_exporter": "python",
   "pygments_lexer": "ipython3",
   "version": "3.11.9"
  }
 },
 "nbformat": 4,
 "nbformat_minor": 5
}
