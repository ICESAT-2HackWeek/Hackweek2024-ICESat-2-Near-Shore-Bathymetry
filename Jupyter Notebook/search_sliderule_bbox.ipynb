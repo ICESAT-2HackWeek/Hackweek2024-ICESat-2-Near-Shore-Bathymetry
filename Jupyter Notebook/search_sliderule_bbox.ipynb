{
 "cells": [
  {
   "cell_type": "code",
   "execution_count": 2,
   "id": "96d77a73-6724-4dfa-ac9f-b031aaec1a89",
   "metadata": {},
   "outputs": [
    {
     "name": "stderr",
     "output_type": "stream",
     "text": [
      "Client (version (4, 5, 3)) is out of date with the server (version (4, 6, 2))\n"
     ]
    },
    {
     "data": {
      "text/plain": [
       "False"
      ]
     },
     "execution_count": 2,
     "metadata": {},
     "output_type": "execute_result"
    }
   ],
   "source": [
    "from sliderule import earthdata,sliderule\n",
    "from datetime import datetime, timezone\n",
    "\n",
    "\n",
    "def fname2datetime(fname):\n",
    "    y = int(fname[6:10])\n",
    "    m = int(fname[10:12])\n",
    "    d = int(fname[12:14])\n",
    "    H = int(fname[14:16])\n",
    "    M = int(fname[16:18])\n",
    "    S = int(fname[18:20])\n",
    "\n",
    "    t = datetime(y,m,d,H,M,S, tzinfo=timezone.utc).timestamp()\n",
    "    return t\n",
    "\n",
    "sliderule.init(\"slideruleearth.io\")\n",
    "# 20240507191308"
   ]
  },
  {
   "cell_type": "code",
   "execution_count": 9,
   "id": "34175a76-53ab-43d5-acc1-3171d2a35237",
   "metadata": {},
   "outputs": [
    {
     "data": {
      "text/plain": [
       "['ATL03_20181101204620_05230102_006_02.h5',\n",
       " 'ATL03_20181117080318_07590106_006_02.h5',\n",
       " 'ATL03_20190131162617_05230202_006_02.h5',\n",
       " 'ATL03_20190216034305_07590206_006_02.h5',\n",
       " 'ATL03_20190502120555_05230302_006_02.h5',\n",
       " 'ATL03_20190517232244_07590306_006_02.h5',\n",
       " 'ATL03_20190914173834_12010406_006_02.h5',\n",
       " 'ATL03_20200129230517_05230602_006_01.h5',\n",
       " 'ATL03_20200314085811_12010606_006_01.h5',\n",
       " 'ATL03_20200429184502_05230702_006_02.h5',\n",
       " 'ATL03_20200515060155_07590706_006_01.h5',\n",
       " 'ATL03_20200729142450_05230802_006_01.h5',\n",
       " 'ATL03_20200814014141_07590806_006_01.h5',\n",
       " 'ATL03_20201028100438_05230902_006_01.h5',\n",
       " 'ATL03_20201112212129_07590906_006_01.h5',\n",
       " 'ATL03_20210127054433_05231002_006_01.h5',\n",
       " 'ATL03_20210312153729_12011006_006_01.h5',\n",
       " 'ATL03_20210428012422_05231102_006_02.h5',\n",
       " 'ATL03_20210513124116_07591106_006_01.h5',\n",
       " 'ATL03_20210727210414_05231202_006_01.h5',\n",
       " 'ATL03_20210812082108_07591206_006_01.h5',\n",
       " 'ATL03_20211026164413_05231302_006_01.h5',\n",
       " 'ATL03_20220125122404_05231402_006_01.h5',\n",
       " 'ATL03_20220209234053_07591406_006_01.h5',\n",
       " 'ATL03_20220426080355_05231502_006_02.h5',\n",
       " 'ATL03_20220726034356_05231602_006_02.h5',\n",
       " 'ATL03_20220810150049_07591606_006_01.h5',\n",
       " 'ATL03_20221024232341_05231702_006_01.h5',\n",
       " 'ATL03_20230208062018_07591806_006_02.h5',\n",
       " 'ATL03_20230424144311_05231902_006_02.h5',\n",
       " 'ATL03_20230510020001_07591906_006_02.h5',\n",
       " 'ATL03_20230724102224_05232002_006_02.h5',\n",
       " 'ATL03_20230808213912_07592006_006_02.h5',\n",
       " 'ATL03_20231023060158_05232102_006_02.h5',\n",
       " 'ATL03_20231107171842_07592106_006_01.h5',\n",
       " 'ATL03_20240122014128_05232202_006_01.h5',\n",
       " 'ATL03_20240421212051_05232302_006_01.h5',\n",
       " 'ATL03_20240507083737_07592306_006_01.h5']"
      ]
     },
     "execution_count": 9,
     "metadata": {},
     "output_type": "execute_result"
    }
   ],
   "source": [
    "# define bounding box; WSEN\n",
    "# bbox = [-108.3, 39.2, -107.8, 38.8]\n",
    "bbox = [-92.4, 28.5, -92.3, 28.4]\n",
    "region = sliderule.toregion(bbox)\n",
    "\n",
    "# search CMR for matching ATL03 in the bounding box\n",
    "grns = earthdata.cmr(\n",
    "    short_name=\"ATL03\",\n",
    "    polygon=region['poly'],\n",
    "    version='006')\n",
    "grns"
   ]
  },
  {
   "cell_type": "code",
   "execution_count": 14,
   "id": "171f57ed-bf0f-40e6-8d46-6138ce945180",
   "metadata": {},
   "outputs": [],
   "source": [
    "# convert the start time listed in the file name to a datetime val\n",
    "# example file name: 'ATL03_20240507191308_07662302_006_01.h5'\n",
    "strt_times = [fname2datetime(fname) for fname in grns]"
   ]
  }
 ],
 "metadata": {
  "kernelspec": {
   "display_name": "Python 3 (ipykernel)",
   "language": "python",
   "name": "python3"
  },
  "language_info": {
   "codemirror_mode": {
    "name": "ipython",
    "version": 3
   },
   "file_extension": ".py",
   "mimetype": "text/x-python",
   "name": "python",
   "nbconvert_exporter": "python",
   "pygments_lexer": "ipython3",
   "version": "3.11.9"
  }
 },
 "nbformat": 4,
 "nbformat_minor": 5
}
