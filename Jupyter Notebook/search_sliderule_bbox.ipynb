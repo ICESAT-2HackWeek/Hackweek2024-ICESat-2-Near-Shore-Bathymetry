{
 "cells": [
  {
   "cell_type": "code",
   "execution_count": 13,
   "id": "96d77a73-6724-4dfa-ac9f-b031aaec1a89",
   "metadata": {},
   "outputs": [],
   "source": [
    "from sliderule import earthdata,sliderule\n",
    "from datetime import datetime, timezone\n",
    "\n",
    "\n",
    "def fname2datetime(fname):\n",
    "    y = int(fname[6:10])\n",
    "    m = int(fname[10:12])\n",
    "    d = int(fname[12:14])\n",
    "    H = int(fname[14:16])\n",
    "    M = int(fname[16:18])\n",
    "    S = int(fname[18:20])\n",
    "\n",
    "    t = datetime(y,m,d,H,M,S, tzinfo=timezone.utc).timestamp()\n",
    "    return t\n",
    "\n",
    "\n",
    "# 20240507191308"
   ]
  },
  {
   "cell_type": "code",
   "execution_count": 8,
   "id": "df5b671c-4fb2-4e7b-acde-c7824852f5e7",
   "metadata": {},
   "outputs": [
    {
     "name": "stdout",
     "output_type": "stream",
     "text": [
      "[{'lon': 28.60376, 'lat': -89.64844}, {'lon': 28.82785, 'lat': -89.64844}, {'lon': 28.82785, 'lat': -89.28809}, {'lon': 28.60376, 'lat': -89.28809}, {'lon': 28.60376, 'lat': -89.64844}]\n"
     ]
    }
   ],
   "source": [
    "# define bounding box\n",
    "\n",
    "# WSEN\n",
    "bbox = [28.82785,-89.28809,28.60376,-89.64844]\n",
    "region = sliderule.toregion(bbox)\n",
    "print(region[\"poly\"])\n",
    "\n",
    "parms = {\n",
    "    \"short_name\": 'ATL03',\n",
    "    \"poly\": region,\n",
    "    \"version\": '08'\n",
    "}\n",
    "grns = earthdata.search(parms)"
   ]
  },
  {
   "cell_type": "code",
   "execution_count": 9,
   "id": "919e7537-0469-46e4-8d33-4bc94568068a",
   "metadata": {},
   "outputs": [],
   "source": [
    "grns =  ['ATL03_20220512055621_07661502_006_01.h5',\n",
    " 'ATL03_20220728141707_05601606_006_02.h5',\n",
    " 'ATL03_20221027095652_05601706_006_01.h5',\n",
    " 'ATL03_20221109211600_07661702_006_01.h5',\n",
    " 'ATL03_20230126053650_05601806_006_02.h5',\n",
    " 'ATL03_20230208165551_07661802_006_02.h5',\n",
    " 'ATL03_20230427011622_05601906_006_02.h5',\n",
    " 'ATL03_20230510123532_07661902_006_02.h5',\n",
    " 'ATL03_20230726205535_05602006_006_02.h5',\n",
    " 'ATL03_20230809081443_07662002_006_02.h5',\n",
    " 'ATL03_20231025163513_05602106_006_02.h5',\n",
    " 'ATL03_20231108035414_07662102_006_01.h5',\n",
    " 'ATL03_20240124121440_05602206_006_01.h5',\n",
    " 'ATL03_20240206233352_07662202_006_01.h5',\n",
    " 'ATL03_20240424075408_05602306_006_01.h5',\n",
    " 'ATL03_20240507191308_07662302_006_01.h5']"
   ]
  },
  {
   "cell_type": "code",
   "execution_count": 14,
   "id": "171f57ed-bf0f-40e6-8d46-6138ce945180",
   "metadata": {},
   "outputs": [],
   "source": [
    "# convert the start time listed in the file name to a datetime val\n",
    "# example file name: 'ATL03_20240507191308_07662302_006_01.h5'\n",
    "strt_times = [fname2datetime(fname) for fname in grns]"
   ]
  }
 ],
 "metadata": {
  "kernelspec": {
   "display_name": "Python 3 (ipykernel)",
   "language": "python",
   "name": "python3"
  },
  "language_info": {
   "codemirror_mode": {
    "name": "ipython",
    "version": 3
   },
   "file_extension": ".py",
   "mimetype": "text/x-python",
   "name": "python",
   "nbconvert_exporter": "python",
   "pygments_lexer": "ipython3",
   "version": "3.11.9"
  }
 },
 "nbformat": 4,
 "nbformat_minor": 5
}
