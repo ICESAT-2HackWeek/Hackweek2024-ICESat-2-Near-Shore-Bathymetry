{
 "cells": [
  {
   "cell_type": "code",
   "execution_count": null,
   "id": "882f25c4-478e-4f12-a102-8be072357390",
   "metadata": {},
   "outputs": [],
   "source": [
    "import numpy as np\n",
    "import pandas as pd\n",
    "from sklearn.metrics import mean_squared_error, r2_score\n",
    "\n",
    "def calculate_metrics(observed, predicted):\n",
    "    \"\"\"\n",
    "    Calculate RMSE, R2, and bias between observed and predicted bathymetry data.\n",
    "    \n",
    "    Parameters:\n",
    "    observed (array-like): Array or Series of observed values.\n",
    "    predicted (array-like): Array or Series of predicted values.\n",
    "    \n",
    "    Returns:\n",
    "    dict: A dictionary with RMSE, R², and bias.\n",
    "    \"\"\"\n",
    "    # Convert to numpy arrays if not already\n",
    "    observed = np.array(observed)\n",
    "    predicted = np.array(predicted)\n",
    "    \n",
    "    # Calculate RMSE\n",
    "    rmse = np.sqrt(mean_squared_error(observed, predicted))\n",
    "    \n",
    "    # Calculate R²\n",
    "    r2 = r2_score(observed, predicted)\n",
    "    \n",
    "    # Calculate Bias\n",
    "    bias = np.mean(predicted - observed)\n",
    "    \n",
    "    # Return all metrics\n",
    "    return {\"RMSE\": rmse, \"R²\": r2, \"Bias\": bias}\n",
    "\n",
    "\n",
    "# Calculate metrics\n",
    "metrics = calculate_metrics(observed_data, predicted_data)\n",
    "\n",
    "# Print the results\n",
    "print(f\"RMSE: {metrics['RMSE']}\")\n",
    "print(f\"R²: {metrics['R²']}\")\n",
    "print(f\"Bias: {metrics['Bias']}\")\n"
   ]
  }
 ],
 "metadata": {
  "kernelspec": {
   "display_name": "Python 3 (ipykernel)",
   "language": "python",
   "name": "python3"
  },
  "language_info": {
   "codemirror_mode": {
    "name": "ipython",
    "version": 3
   },
   "file_extension": ".py",
   "mimetype": "text/x-python",
   "name": "python",
   "nbconvert_exporter": "python",
   "pygments_lexer": "ipython3",
   "version": "3.11.9"
  }
 },
 "nbformat": 4,
 "nbformat_minor": 5
}
